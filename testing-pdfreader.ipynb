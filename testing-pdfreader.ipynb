{
 "cells": [
  {
   "cell_type": "code",
   "execution_count": 1,
   "metadata": {
    "collapsed": true
   },
   "outputs": [],
   "source": [
    "import pandas as pd\n",
    "import PyPDF2"
   ]
  },
  {
   "cell_type": "code",
   "execution_count": 2,
   "metadata": {
    "collapsed": false,
    "pycharm": {
     "name": "#%%\n"
    }
   },
   "outputs": [],
   "source": [
    "pdfFileObj = open('Home Inspection.pdf', 'rb')\n",
    "pdfReader = PyPDF2.PdfFileReader(pdfFileObj)\n",
    "num_pages = pdfReader.numPages\n",
    "count = 0\n",
    "text = \"\"\n"
   ]
  },
  {
   "cell_type": "code",
   "execution_count": 4,
   "metadata": {},
   "outputs": [
    {
     "data": {
      "text/plain": [
       "<PyPDF2.pdf.PdfFileReader at 0x7fea80904280>"
      ]
     },
     "execution_count": 4,
     "metadata": {},
     "output_type": "execute_result"
    }
   ],
   "source": [
    "pdfReader"
   ]
  },
  {
   "cell_type": "code",
   "execution_count": 5,
   "metadata": {},
   "outputs": [
    {
     "data": {
      "text/plain": [
       "25"
      ]
     },
     "execution_count": 5,
     "metadata": {},
     "output_type": "execute_result"
    }
   ],
   "source": [
    "num_pages"
   ]
  },
  {
   "cell_type": "code",
   "execution_count": 7,
   "metadata": {},
   "outputs": [
    {
     "data": {
      "text/plain": [
       "'WellHouse Building Inspections February 4, 2021 \\n(printed) \\n Home Inspection Report \\nTel: 408-370-9192\\n  (File:  2102002.doc)  Report page 1 of 24    PREPARED FOR:   Vincent & Bryte Bellotti Inspection Address: 1018 Carolyn Ave  San Jose, CA    Inspection Date:  2/1/2021 INSPECTOR:  CRAIG MOORHEAD Represented by:   Kimberly Bellotti \\n Sereno Group  214 Los Gatos Saratoga Road  Los Gatos,  CA  95030   Voice: 408-335-1400  At your request, a home inspection of the property at \\n1018 Carolyn Ave was performed on \\n2/1/2021.  WellHouse is pleased to submit the enclosed repor\\nt.  Thanks again for selecting our company, we \\nappreciate the opportunity to be of service.   Cosmetic considerations are not within the scope of\\n this report.  Interested parties should examine the \\nportions of this house that are of concern prior to \\nclosing, including appliances, interior wall coverings, \\nfloor coverings, levelness of floors, etc.  Further\\nmore, owning any building involves some risk and while \\nwe can give an excellent overview of the property, we\\n can inspect only what is visually accessible.  \\nMoving furniture or personal storage, lifting carpet,any \\ndismantling, or lighting gas pilots are not within \\nthe scope of this inspection.  The intent of the in\\nspection was to give a general view of the buildings \\ncondition at the time of inspection.  While specific\\n conditions were noted in this report, the purpose was \\nto include the observations made during the inspec\\ntion.  This report should not be construed as a \\ncomplete list of every possible condition and no a\\nttempt to identify and document every condition was \\nmade or implied.   Conditions of a property over time can change or \\nbe changed.  The information contained within the \\nreport reflects the observations and opinions of the \\ninspector at the time the inspection was performed \\nwith the general age and construction type ta\\nken into consideration.  Comments r\\negarding possible observed conditions or recommendations are not intended as \\ncriticisms toward the building, rather, they are \\noffered as a professional opinion pertaining to the \\npresent condition of the property.  Items may have been \\nincluded in report which are referred to as upgrades.  \\nThese have been included where the inspector felt they \\nmight be beneficial to enhance the property.   This report was prepared for \\nVincent & Bryte Bellotti\\n.  In the event that the inspection report has been \\nprepared for a seller, WellHouse is authorizing it™s us\\ne in assisting the seller to fill-out the property \\ndisclosures.  Furthermore, we will return to the pr\\noperty, for a fee, and perform a ﬁwalk-throughﬂ with a \\nbuyer to explain and clarify the cont\\nent of the report.  Your attention \\nis directed to the Agreement For \\nHome Inspection Services, a copy of\\n which is attached.  It more spec\\nifically delineates the scope of the \\ninspection and the limit of WellHouse™s liability in performing this inspection.   Sincerely,  Craig Moorhead WellHouse Corporation - Building Inspections  '"
      ]
     },
     "execution_count": 7,
     "metadata": {},
     "output_type": "execute_result"
    }
   ],
   "source": [
    "pdfReader.getPage(0).extractText()"
   ]
  },
  {
   "cell_type": "code",
   "execution_count": 8,
   "metadata": {},
   "outputs": [],
   "source": [
    "while count < num_pages:\n",
    "    pageObj = pdfReader.getPage(count)\n",
    "    count += 1\n",
    "    text += pageObj.extractText()\n"
   ]
  },
  {
   "cell_type": "code",
   "execution_count": 10,
   "metadata": {},
   "outputs": [],
   "source": [
    "# print(text)\n",
    "# Split the text into lines\n",
    "lines = text.split('\\n')\n",
    "# Create a dataframe with the lines\n",
    "df = pd.DataFrame(lines)"
   ]
  },
  {
   "cell_type": "code",
   "execution_count": 11,
   "metadata": {},
   "outputs": [
    {
     "data": {
      "text/html": [
       "<div>\n",
       "<style scoped>\n",
       "    .dataframe tbody tr th:only-of-type {\n",
       "        vertical-align: middle;\n",
       "    }\n",
       "\n",
       "    .dataframe tbody tr th {\n",
       "        vertical-align: top;\n",
       "    }\n",
       "\n",
       "    .dataframe thead th {\n",
       "        text-align: right;\n",
       "    }\n",
       "</style>\n",
       "<table border=\"1\" class=\"dataframe\">\n",
       "  <thead>\n",
       "    <tr style=\"text-align: right;\">\n",
       "      <th></th>\n",
       "      <th>0</th>\n",
       "    </tr>\n",
       "  </thead>\n",
       "  <tbody>\n",
       "    <tr>\n",
       "      <th>0</th>\n",
       "      <td>WellHouse Building Inspections February 4, 2021</td>\n",
       "    </tr>\n",
       "    <tr>\n",
       "      <th>1</th>\n",
       "      <td>(printed)</td>\n",
       "    </tr>\n",
       "    <tr>\n",
       "      <th>2</th>\n",
       "      <td>Home Inspection Report</td>\n",
       "    </tr>\n",
       "    <tr>\n",
       "      <th>3</th>\n",
       "      <td>Tel: 408-370-9192</td>\n",
       "    </tr>\n",
       "    <tr>\n",
       "      <th>4</th>\n",
       "      <td>(File:  2102002.doc)  Report page 1 of 24   ...</td>\n",
       "    </tr>\n",
       "    <tr>\n",
       "      <th>...</th>\n",
       "      <td>...</td>\n",
       "    </tr>\n",
       "    <tr>\n",
       "      <th>1203</th>\n",
       "      <td>Inspection Date:</td>\n",
       "    </tr>\n",
       "    <tr>\n",
       "      <th>1204</th>\n",
       "      <td>2/1/2021  Represented by:</td>\n",
       "    </tr>\n",
       "    <tr>\n",
       "      <th>1205</th>\n",
       "      <td>Kimberly Bellotti Sereno Group</td>\n",
       "    </tr>\n",
       "    <tr>\n",
       "      <th>1206</th>\n",
       "      <td>214 Los Gatos Saratoga Road</td>\n",
       "    </tr>\n",
       "    <tr>\n",
       "      <th>1207</th>\n",
       "      <td>Los Gatos, CA  95030 Telephone: 408-335-1400, ...</td>\n",
       "    </tr>\n",
       "  </tbody>\n",
       "</table>\n",
       "<p>1208 rows × 1 columns</p>\n",
       "</div>"
      ],
      "text/plain": [
       "                                                      0\n",
       "0      WellHouse Building Inspections February 4, 2021 \n",
       "1                                            (printed) \n",
       "2                               Home Inspection Report \n",
       "3                                     Tel: 408-370-9192\n",
       "4       (File:  2102002.doc)  Report page 1 of 24   ...\n",
       "...                                                 ...\n",
       "1203                                   Inspection Date:\n",
       "1204                         2/1/2021  Represented by: \n",
       "1205                    Kimberly Bellotti Sereno Group \n",
       "1206                     214 Los Gatos Saratoga Road   \n",
       "1207  Los Gatos, CA  95030 Telephone: 408-335-1400, ...\n",
       "\n",
       "[1208 rows x 1 columns]"
      ]
     },
     "execution_count": 11,
     "metadata": {},
     "output_type": "execute_result"
    }
   ],
   "source": [
    "df"
   ]
  },
  {
   "cell_type": "code",
   "execution_count": null,
   "metadata": {},
   "outputs": [],
   "source": []
  }
 ],
 "metadata": {
  "kernelspec": {
   "display_name": "Python 3",
   "language": "python",
   "name": "python3"
  },
  "language_info": {
   "codemirror_mode": {
    "name": "ipython",
    "version": 3
   },
   "file_extension": ".py",
   "mimetype": "text/x-python",
   "name": "python",
   "nbconvert_exporter": "python",
   "pygments_lexer": "ipython3",
   "version": "3.8.12"
  }
 },
 "nbformat": 4,
 "nbformat_minor": 0
}