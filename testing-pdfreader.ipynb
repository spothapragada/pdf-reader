{
 "cells": [
  {
   "cell_type": "code",
   "execution_count": 1,
   "metadata": {
    "collapsed": true,
    "pycharm": {
     "name": "#%%\n"
    }
   },
   "outputs": [],
   "source": [
    "import pandas as pd\n",
    "import PyPDF2\n",
    "import tabula"
   ]
  },
  {
   "cell_type": "code",
   "execution_count": 21,
   "outputs": [],
   "source": [
    "# Set Pandas display options\n",
    "pd.set_option('display.max_columns', 500)\n",
    "pd.set_option('display.max_rows', 500)\n",
    "pd.set_option('display.max_colwidth', 500)\n"
   ],
   "metadata": {
    "collapsed": false,
    "pycharm": {
     "name": "#%%\n"
    }
   }
  },
  {
   "cell_type": "code",
   "execution_count": 2,
   "metadata": {
    "collapsed": false,
    "pycharm": {
     "name": "#%%\n"
    }
   },
   "outputs": [],
   "source": [
    "pdfFileObj = open('Home Inspection.pdf', 'rb')\n",
    "pdfReader = PyPDF2.PdfFileReader(pdfFileObj)\n",
    "num_pages = pdfReader.numPages\n",
    "count = 0\n",
    "text = \"\"\n"
   ]
  },
  {
   "cell_type": "code",
   "execution_count": 3,
   "metadata": {
    "pycharm": {
     "name": "#%%\n"
    }
   },
   "outputs": [
    {
     "data": {
      "text/plain": "<PyPDF2.pdf.PdfFileReader at 0x7f9640b35910>"
     },
     "execution_count": 3,
     "metadata": {},
     "output_type": "execute_result"
    }
   ],
   "source": [
    "pdfReader"
   ]
  },
  {
   "cell_type": "code",
   "execution_count": 4,
   "metadata": {
    "pycharm": {
     "name": "#%%\n"
    }
   },
   "outputs": [
    {
     "data": {
      "text/plain": "25"
     },
     "execution_count": 4,
     "metadata": {},
     "output_type": "execute_result"
    }
   ],
   "source": [
    "num_pages"
   ]
  },
  {
   "cell_type": "code",
   "execution_count": 5,
   "metadata": {
    "pycharm": {
     "name": "#%%\n"
    }
   },
   "outputs": [
    {
     "data": {
      "text/plain": "'WellHouse Building Inspections February 4, 2021 \\n(printed) \\n Home Inspection Report \\nTel: 408-370-9192\\n  (File:  2102002.doc)  Report page 1 of 24    PREPARED FOR:   Vincent & Bryte Bellotti Inspection Address: 1018 Carolyn Ave  San Jose, CA    Inspection Date:  2/1/2021 INSPECTOR:  CRAIG MOORHEAD Represented by:   Kimberly Bellotti \\n Sereno Group  214 Los Gatos Saratoga Road  Los Gatos,  CA  95030   Voice: 408-335-1400  At your request, a home inspection of the property at \\n1018 Carolyn Ave was performed on \\n2/1/2021.  WellHouse is pleased to submit the enclosed repor\\nt.  Thanks again for selecting our company, we \\nappreciate the opportunity to be of service.   Cosmetic considerations are not within the scope of\\n this report.  Interested parties should examine the \\nportions of this house that are of concern prior to \\nclosing, including appliances, interior wall coverings, \\nfloor coverings, levelness of floors, etc.  Further\\nmore, owning any building involves some risk and while \\nwe can give an excellent overview of the property, we\\n can inspect only what is visually accessible.  \\nMoving furniture or personal storage, lifting carpet,any \\ndismantling, or lighting gas pilots are not within \\nthe scope of this inspection.  The intent of the in\\nspection was to give a general view of the buildings \\ncondition at the time of inspection.  While specific\\n conditions were noted in this report, the purpose was \\nto include the observations made during the inspec\\ntion.  This report should not be construed as a \\ncomplete list of every possible condition and no a\\nttempt to identify and document every condition was \\nmade or implied.   Conditions of a property over time can change or \\nbe changed.  The information contained within the \\nreport reflects the observations and opinions of the \\ninspector at the time the inspection was performed \\nwith the general age and construction type ta\\nken into consideration.  Comments r\\negarding possible observed conditions or recommendations are not intended as \\ncriticisms toward the building, rather, they are \\noffered as a professional opinion pertaining to the \\npresent condition of the property.  Items may have been \\nincluded in report which are referred to as upgrades.  \\nThese have been included where the inspector felt they \\nmight be beneficial to enhance the property.   This report was prepared for \\nVincent & Bryte Bellotti\\n.  In the event that the inspection report has been \\nprepared for a seller, WellHouse is authorizing it™s us\\ne in assisting the seller to fill-out the property \\ndisclosures.  Furthermore, we will return to the pr\\noperty, for a fee, and perform a ﬁwalk-throughﬂ with a \\nbuyer to explain and clarify the cont\\nent of the report.  Your attention \\nis directed to the Agreement For \\nHome Inspection Services, a copy of\\n which is attached.  It more spec\\nifically delineates the scope of the \\ninspection and the limit of WellHouse™s liability in performing this inspection.   Sincerely,  Craig Moorhead WellHouse Corporation - Building Inspections  '"
     },
     "execution_count": 5,
     "metadata": {},
     "output_type": "execute_result"
    }
   ],
   "source": [
    "pdfReader.getPage(0).extractText()"
   ]
  },
  {
   "cell_type": "code",
   "execution_count": 6,
   "metadata": {
    "pycharm": {
     "name": "#%%\n"
    }
   },
   "outputs": [],
   "source": [
    "while count < num_pages:\n",
    "    pageObj = pdfReader.getPage(count)\n",
    "    count += 1\n",
    "    text += pageObj.extractText()\n"
   ]
  },
  {
   "cell_type": "code",
   "execution_count": 7,
   "metadata": {
    "pycharm": {
     "name": "#%%\n"
    }
   },
   "outputs": [],
   "source": [
    "# print(text)\n",
    "# Split the text into lines\n",
    "lines = text.split('\\n')\n",
    "# Create a dataframe with the lines\n",
    "df = pd.DataFrame(lines)"
   ]
  },
  {
   "cell_type": "code",
   "execution_count": 22,
   "metadata": {
    "pycharm": {
     "name": "#%%\n"
    }
   },
   "outputs": [
    {
     "data": {
      "text/plain": "                                                                                                                                                                                                                                             0\n0                                                                                                                                                                                             WellHouse Building Inspections February 4, 2021 \n1                                                                                                                                                                                                                                   (printed) \n2                                                                                                                                                                                                                      Home Inspection Report \n3                                                                                                                                                                                                                            Tel: 408-370-9192\n4       (File:  2102002.doc)  Report page 1 of 24    PREPARED FOR:   Vincent & Bryte Bellotti Inspection Address: 1018 Carolyn Ave  San Jose, CA    Inspection Date:  2/1/2021 INSPECTOR:  CRAIG MOORHEAD Represented by:   Kimberly Bellotti \n...                                                                                                                                                                                                                                        ...\n1203                                                                                                                                                                                                                          Inspection Date:\n1204                                                                                                                                                                                                                2/1/2021  Represented by: \n1205                                                                                                                                                                                                           Kimberly Bellotti Sereno Group \n1206                                                                                                                                                                                                            214 Los Gatos Saratoga Road   \n1207                                                                                 Los Gatos, CA  95030 Telephone: 408-335-1400,    If you have any questions concerning this invoice, call:  (408) 370-9192  THANK YOU FOR YOUR BUSINESS!  \n\n[1208 rows x 1 columns]",
      "text/html": "<div>\n<style scoped>\n    .dataframe tbody tr th:only-of-type {\n        vertical-align: middle;\n    }\n\n    .dataframe tbody tr th {\n        vertical-align: top;\n    }\n\n    .dataframe thead th {\n        text-align: right;\n    }\n</style>\n<table border=\"1\" class=\"dataframe\">\n  <thead>\n    <tr style=\"text-align: right;\">\n      <th></th>\n      <th>0</th>\n    </tr>\n  </thead>\n  <tbody>\n    <tr>\n      <th>0</th>\n      <td>WellHouse Building Inspections February 4, 2021</td>\n    </tr>\n    <tr>\n      <th>1</th>\n      <td>(printed)</td>\n    </tr>\n    <tr>\n      <th>2</th>\n      <td>Home Inspection Report</td>\n    </tr>\n    <tr>\n      <th>3</th>\n      <td>Tel: 408-370-9192</td>\n    </tr>\n    <tr>\n      <th>4</th>\n      <td>(File:  2102002.doc)  Report page 1 of 24    PREPARED FOR:   Vincent &amp; Bryte Bellotti Inspection Address: 1018 Carolyn Ave  San Jose, CA    Inspection Date:  2/1/2021 INSPECTOR:  CRAIG MOORHEAD Represented by:   Kimberly Bellotti</td>\n    </tr>\n    <tr>\n      <th>...</th>\n      <td>...</td>\n    </tr>\n    <tr>\n      <th>1203</th>\n      <td>Inspection Date:</td>\n    </tr>\n    <tr>\n      <th>1204</th>\n      <td>2/1/2021  Represented by:</td>\n    </tr>\n    <tr>\n      <th>1205</th>\n      <td>Kimberly Bellotti Sereno Group</td>\n    </tr>\n    <tr>\n      <th>1206</th>\n      <td>214 Los Gatos Saratoga Road</td>\n    </tr>\n    <tr>\n      <th>1207</th>\n      <td>Los Gatos, CA  95030 Telephone: 408-335-1400,    If you have any questions concerning this invoice, call:  (408) 370-9192  THANK YOU FOR YOUR BUSINESS!</td>\n    </tr>\n  </tbody>\n</table>\n<p>1208 rows × 1 columns</p>\n</div>"
     },
     "execution_count": 22,
     "metadata": {},
     "output_type": "execute_result"
    }
   ],
   "source": [
    "df"
   ]
  },
  {
   "cell_type": "code",
   "execution_count": 12,
   "metadata": {
    "pycharm": {
     "name": "#%%\n"
    }
   },
   "outputs": [
    {
     "name": "stderr",
     "output_type": "stream",
     "text": [
      "Got stderr: Jan 29, 2022 6:27:00 PM org.apache.pdfbox.pdmodel.font.PDTrueTypeFont <init>\n",
      "WARNING: Using fallback font 'Helvetica' for 'CenturyGothic'\n",
      "Jan 29, 2022 6:27:00 PM org.apache.pdfbox.pdmodel.font.PDTrueTypeFont <init>\n",
      "WARNING: Using fallback font 'Helvetica-Bold' for 'CenturyGothic-Bold'\n",
      "Jan 29, 2022 6:27:00 PM org.apache.pdfbox.pdmodel.font.PDTrueTypeFont <init>\n",
      "WARNING: Using fallback font 'Helvetica' for 'CenturyGothic'\n",
      "Jan 29, 2022 6:27:00 PM org.apache.pdfbox.pdmodel.font.PDTrueTypeFont <init>\n",
      "WARNING: Using fallback font 'Helvetica-Bold' for 'CenturyGothic-Bold'\n",
      "\n"
     ]
    }
   ],
   "source": [
    "# Read pdf into dataframe using tabula\n",
    "df_tabs = tabula.read_pdf('Home Inspection.pdf', pages='all')"
   ]
  },
  {
   "cell_type": "code",
   "execution_count": 13,
   "outputs": [
    {
     "data": {
      "text/plain": "7"
     },
     "execution_count": 13,
     "metadata": {},
     "output_type": "execute_result"
    }
   ],
   "source": [
    "len(df_tab)"
   ],
   "metadata": {
    "collapsed": false,
    "pycharm": {
     "name": "#%%\n"
    }
   }
  },
  {
   "cell_type": "code",
   "execution_count": 23,
   "outputs": [
    {
     "data": {
      "text/plain": "     1.  \\\n0   NaN   \n1   NaN   \n2   NaN   \n3   NaN   \n4   NaN   \n5   NaN   \n6   NaN   \n7   NaN   \n8   NaN   \n9   NaN   \n10  NaN   \n11  NaN   \n12  NaN   \n13  NaN   \n14  NaN   \n15  2.0   \n16  NaN   \n17  3.0   \n18  NaN   \n19  NaN   \n20  NaN   \n21  NaN   \n22  NaN   \n23  NaN   \n24  NaN   \n25  4.0   \n26  NaN   \n27  5.0   \n28  NaN   \n29  NaN   \n30  NaN   \n31  6.0   \n32  NaN   \n33  NaN   \n34  7.0   \n35  NaN   \n36  8.0   \n37  NaN   \n38  NaN   \n39  NaN   \n40  NaN   \n41  NaN   \n42  NaN   \n43  9.0   \n\n                          As requested by Vincent & Bryte Bellotti (hereafter called client), WellHouse Corporation (hereafter called WellHouse) has performed a  \n0                       visual home inspection of 1018 Carolyn Ave, San Jose, CA, on 2/1/2021 for a service fee in the amount of $575 at the time.  WellHouse is  \n1                providing this written report identifying the present condition of the below stated items.  This inspection will be of readily accessible areas  \n2                 of the house and is limited to visual observations of apparent conditions which were existing at the time of the inspection.  The inspector is  \n3                             not required to move personal property, debris, furniture, equipment, carpeting or like materials which may impede access or limit  \n4                         visibility.  Items or conditions which are latent or concealed are excluded from the inspection.  The inspection is not intended to be  \n5                       technically exhaustive.  Equipment and systems will not be dismantled.  The inspection includes only the items and systems expressly and  \n6                                                                                                                            specifically identified as follows:  \n7                                                                                                                         * Drainage * Interior * Heating * Roof  \n8                                                                                    * Foundation * Materials of Construction * Crawlspace/basement * Insulation  \n9                                                                                                               * Electrical * Attic * Fireplace(s) * Appliances  \n10                                                                                        * Plumbing * Central Air Conditioning  * Driveway/walkways  * Exterior  \n11               Window operation and electrical outlets, switches, and fixtures are checked by random sampling.  Garage doors and garbage disposers are checked  \n12          for operation only.  Only the dishwasher's ability to fill and drain properly is checked.  Thermostats and timers are not checked for accuracy.  Air  \n13                  conditioners are checked for equipment operation only.  Inspection of underground piping including water supply and sewer was not performed.  \n14                                                                                                   Inspection of termite or rodent activity was not performed.  \n15         The inspection and report will be performed in a  manner consistent with the Standards of Practice of the American Society of Home Inspectors (ASHI).  \n16             The inspection and report are performed and prepared for the client.  WellHouse accepts no responsibility for misinterpretation by third parties.  \n17                                                                                              Items and systems NOT INCLUDED in the inspection are as follows:  \n18                                                                                 * service utilities * playground equipment * pools/pool equipment * sidewalks  \n19                                                                                             * wells/springs * tennis courts * detached buildings  * elevators  \n20                                                                                   * solar systems * security systems * recreational appliances * septic tanks  \n21                                                                              * personal property * cosmetic items * drainfields / cesspools * water softeners  \n22                                                                                                     * sprinkler system * central vacuum * sump pumps * fences  \n23                                                                                      * low voltage systems * areas not visible * doorbells * outdoor kitchens  \n24                                                                                                                         * special equipment * Rodents/animals  \n25            The inspection/report is NOT a compliance inspection for past or present governmental codes or regulations of any kind.  Though the building codes  \n26            are a standard for some of our evaluation, by definition, such inspections can only be performed by the building department of local jurisdiction.  \n27                                              The inspection and report DO NOT ADDRESS AND ARE NOT INTENDED TO ADDRESS THE POSSIBLE PRESENCE OF OR DANGER FROM  \n28                                                        ELECTRICAL LINES, POLES, OR TRANSFORMERS, RADON GAS, LEAD PAINT, UREA FORMALDEHYDE, TOXIC OR FLAMMABLE  \n29                                                         CHEMICALS, WATER OR AIRBORNE RELATED ILLNESS OR DISEASE, AND ALL OTHER SIMILAR OR POTENTIALLY HARMFUL  \n30                            SUBSTANCES.  Client is urged to contact a reputable specialist if information, identification or testing for the above is desired.  \n31          This inspection/report is not intended to be used as a guarantee or warranty, expressed or implied, regarding the adequacy, performance or condition  \n32                 of any inspected structure, item or system.  The inspection and report are not intended to reflect the value of the premises, nor to make any  \n33                                                               representation as to the advisability or inadvisability of purchase or the suitability for use.  \n34  This inspection is not an insurance policy.  The inspection/report is not a certification of any kind.  WellHouse shall not be construed as insuring against  \n35                                                               any defects or deficiencies not contained in the inspection report and subsequently discovered.  \n36        WellHouse will not be held liable for any claims without reasonable notification and opportunity to reinspect the condition(s) in dispute prior to any  \n37                                                                                                              change or modification to the said condition(s).  \n38           The client is immediately to put in writing to WellHouse problems with the service.  Communications must be consistent in that the party originally  \n39                                                                                          accompanying the inspector will be the party resolving any disputes.  \n40   Any controversy or claim arising out of or related to this contract, or any breach thereof, shall be settled by arbitration in accordance with the rules of  \n41          the American Arbitration Association, and judgment upon award rendered by the arbitrators may be entered in any court having jurisdiction.  Disputes  \n42                                                  settled without favor to the client will mandate a payment of reinspection time, fees and arbitration costs.  \n43           Payment is due upon completion of the on-site inspection unless arrangements for escrow billing were made prior to the inspection.  There will be a  ",
      "text/html": "<div>\n<style scoped>\n    .dataframe tbody tr th:only-of-type {\n        vertical-align: middle;\n    }\n\n    .dataframe tbody tr th {\n        vertical-align: top;\n    }\n\n    .dataframe thead th {\n        text-align: right;\n    }\n</style>\n<table border=\"1\" class=\"dataframe\">\n  <thead>\n    <tr style=\"text-align: right;\">\n      <th></th>\n      <th>1.</th>\n      <th>As requested by Vincent &amp; Bryte Bellotti (hereafter called client), WellHouse Corporation (hereafter called WellHouse) has performed a</th>\n    </tr>\n  </thead>\n  <tbody>\n    <tr>\n      <th>0</th>\n      <td>NaN</td>\n      <td>visual home inspection of 1018 Carolyn Ave, San Jose, CA, on 2/1/2021 for a service fee in the amount of $575 at the time.  WellHouse is</td>\n    </tr>\n    <tr>\n      <th>1</th>\n      <td>NaN</td>\n      <td>providing this written report identifying the present condition of the below stated items.  This inspection will be of readily accessible areas</td>\n    </tr>\n    <tr>\n      <th>2</th>\n      <td>NaN</td>\n      <td>of the house and is limited to visual observations of apparent conditions which were existing at the time of the inspection.  The inspector is</td>\n    </tr>\n    <tr>\n      <th>3</th>\n      <td>NaN</td>\n      <td>not required to move personal property, debris, furniture, equipment, carpeting or like materials which may impede access or limit</td>\n    </tr>\n    <tr>\n      <th>4</th>\n      <td>NaN</td>\n      <td>visibility.  Items or conditions which are latent or concealed are excluded from the inspection.  The inspection is not intended to be</td>\n    </tr>\n    <tr>\n      <th>5</th>\n      <td>NaN</td>\n      <td>technically exhaustive.  Equipment and systems will not be dismantled.  The inspection includes only the items and systems expressly and</td>\n    </tr>\n    <tr>\n      <th>6</th>\n      <td>NaN</td>\n      <td>specifically identified as follows:</td>\n    </tr>\n    <tr>\n      <th>7</th>\n      <td>NaN</td>\n      <td>* Drainage * Interior * Heating * Roof</td>\n    </tr>\n    <tr>\n      <th>8</th>\n      <td>NaN</td>\n      <td>* Foundation * Materials of Construction * Crawlspace/basement * Insulation</td>\n    </tr>\n    <tr>\n      <th>9</th>\n      <td>NaN</td>\n      <td>* Electrical * Attic * Fireplace(s) * Appliances</td>\n    </tr>\n    <tr>\n      <th>10</th>\n      <td>NaN</td>\n      <td>* Plumbing * Central Air Conditioning  * Driveway/walkways  * Exterior</td>\n    </tr>\n    <tr>\n      <th>11</th>\n      <td>NaN</td>\n      <td>Window operation and electrical outlets, switches, and fixtures are checked by random sampling.  Garage doors and garbage disposers are checked</td>\n    </tr>\n    <tr>\n      <th>12</th>\n      <td>NaN</td>\n      <td>for operation only.  Only the dishwasher's ability to fill and drain properly is checked.  Thermostats and timers are not checked for accuracy.  Air</td>\n    </tr>\n    <tr>\n      <th>13</th>\n      <td>NaN</td>\n      <td>conditioners are checked for equipment operation only.  Inspection of underground piping including water supply and sewer was not performed.</td>\n    </tr>\n    <tr>\n      <th>14</th>\n      <td>NaN</td>\n      <td>Inspection of termite or rodent activity was not performed.</td>\n    </tr>\n    <tr>\n      <th>15</th>\n      <td>2.0</td>\n      <td>The inspection and report will be performed in a  manner consistent with the Standards of Practice of the American Society of Home Inspectors (ASHI).</td>\n    </tr>\n    <tr>\n      <th>16</th>\n      <td>NaN</td>\n      <td>The inspection and report are performed and prepared for the client.  WellHouse accepts no responsibility for misinterpretation by third parties.</td>\n    </tr>\n    <tr>\n      <th>17</th>\n      <td>3.0</td>\n      <td>Items and systems NOT INCLUDED in the inspection are as follows:</td>\n    </tr>\n    <tr>\n      <th>18</th>\n      <td>NaN</td>\n      <td>* service utilities * playground equipment * pools/pool equipment * sidewalks</td>\n    </tr>\n    <tr>\n      <th>19</th>\n      <td>NaN</td>\n      <td>* wells/springs * tennis courts * detached buildings  * elevators</td>\n    </tr>\n    <tr>\n      <th>20</th>\n      <td>NaN</td>\n      <td>* solar systems * security systems * recreational appliances * septic tanks</td>\n    </tr>\n    <tr>\n      <th>21</th>\n      <td>NaN</td>\n      <td>* personal property * cosmetic items * drainfields / cesspools * water softeners</td>\n    </tr>\n    <tr>\n      <th>22</th>\n      <td>NaN</td>\n      <td>* sprinkler system * central vacuum * sump pumps * fences</td>\n    </tr>\n    <tr>\n      <th>23</th>\n      <td>NaN</td>\n      <td>* low voltage systems * areas not visible * doorbells * outdoor kitchens</td>\n    </tr>\n    <tr>\n      <th>24</th>\n      <td>NaN</td>\n      <td>* special equipment * Rodents/animals</td>\n    </tr>\n    <tr>\n      <th>25</th>\n      <td>4.0</td>\n      <td>The inspection/report is NOT a compliance inspection for past or present governmental codes or regulations of any kind.  Though the building codes</td>\n    </tr>\n    <tr>\n      <th>26</th>\n      <td>NaN</td>\n      <td>are a standard for some of our evaluation, by definition, such inspections can only be performed by the building department of local jurisdiction.</td>\n    </tr>\n    <tr>\n      <th>27</th>\n      <td>5.0</td>\n      <td>The inspection and report DO NOT ADDRESS AND ARE NOT INTENDED TO ADDRESS THE POSSIBLE PRESENCE OF OR DANGER FROM</td>\n    </tr>\n    <tr>\n      <th>28</th>\n      <td>NaN</td>\n      <td>ELECTRICAL LINES, POLES, OR TRANSFORMERS, RADON GAS, LEAD PAINT, UREA FORMALDEHYDE, TOXIC OR FLAMMABLE</td>\n    </tr>\n    <tr>\n      <th>29</th>\n      <td>NaN</td>\n      <td>CHEMICALS, WATER OR AIRBORNE RELATED ILLNESS OR DISEASE, AND ALL OTHER SIMILAR OR POTENTIALLY HARMFUL</td>\n    </tr>\n    <tr>\n      <th>30</th>\n      <td>NaN</td>\n      <td>SUBSTANCES.  Client is urged to contact a reputable specialist if information, identification or testing for the above is desired.</td>\n    </tr>\n    <tr>\n      <th>31</th>\n      <td>6.0</td>\n      <td>This inspection/report is not intended to be used as a guarantee or warranty, expressed or implied, regarding the adequacy, performance or condition</td>\n    </tr>\n    <tr>\n      <th>32</th>\n      <td>NaN</td>\n      <td>of any inspected structure, item or system.  The inspection and report are not intended to reflect the value of the premises, nor to make any</td>\n    </tr>\n    <tr>\n      <th>33</th>\n      <td>NaN</td>\n      <td>representation as to the advisability or inadvisability of purchase or the suitability for use.</td>\n    </tr>\n    <tr>\n      <th>34</th>\n      <td>7.0</td>\n      <td>This inspection is not an insurance policy.  The inspection/report is not a certification of any kind.  WellHouse shall not be construed as insuring against</td>\n    </tr>\n    <tr>\n      <th>35</th>\n      <td>NaN</td>\n      <td>any defects or deficiencies not contained in the inspection report and subsequently discovered.</td>\n    </tr>\n    <tr>\n      <th>36</th>\n      <td>8.0</td>\n      <td>WellHouse will not be held liable for any claims without reasonable notification and opportunity to reinspect the condition(s) in dispute prior to any</td>\n    </tr>\n    <tr>\n      <th>37</th>\n      <td>NaN</td>\n      <td>change or modification to the said condition(s).</td>\n    </tr>\n    <tr>\n      <th>38</th>\n      <td>NaN</td>\n      <td>The client is immediately to put in writing to WellHouse problems with the service.  Communications must be consistent in that the party originally</td>\n    </tr>\n    <tr>\n      <th>39</th>\n      <td>NaN</td>\n      <td>accompanying the inspector will be the party resolving any disputes.</td>\n    </tr>\n    <tr>\n      <th>40</th>\n      <td>NaN</td>\n      <td>Any controversy or claim arising out of or related to this contract, or any breach thereof, shall be settled by arbitration in accordance with the rules of</td>\n    </tr>\n    <tr>\n      <th>41</th>\n      <td>NaN</td>\n      <td>the American Arbitration Association, and judgment upon award rendered by the arbitrators may be entered in any court having jurisdiction.  Disputes</td>\n    </tr>\n    <tr>\n      <th>42</th>\n      <td>NaN</td>\n      <td>settled without favor to the client will mandate a payment of reinspection time, fees and arbitration costs.</td>\n    </tr>\n    <tr>\n      <th>43</th>\n      <td>9.0</td>\n      <td>Payment is due upon completion of the on-site inspection unless arrangements for escrow billing were made prior to the inspection.  There will be a</td>\n    </tr>\n  </tbody>\n</table>\n</div>"
     },
     "execution_count": 23,
     "metadata": {},
     "output_type": "execute_result"
    }
   ],
   "source": [
    "df_tabs[4]"
   ],
   "metadata": {
    "collapsed": false,
    "pycharm": {
     "name": "#%%\n"
    }
   }
  }
 ],
 "metadata": {
  "kernelspec": {
   "name": "python3812jvsc74a57bd08b8664d587b268c661f99c95a6ff8e7e4a81f76836bc65a3325e6e3694a83e7c",
   "language": "python",
   "display_name": "Python 3.8.12 64-bit ('pdfreader': conda)"
  },
  "language_info": {
   "codemirror_mode": {
    "name": "ipython",
    "version": 3
   },
   "file_extension": ".py",
   "mimetype": "text/x-python",
   "name": "python",
   "nbconvert_exporter": "python",
   "pygments_lexer": "ipython3",
   "version": "3.8.12"
  }
 },
 "nbformat": 4,
 "nbformat_minor": 0
}